{
 "cells": [
  {
   "cell_type": "markdown",
   "metadata": {
    "id": "Dnubs-Nnb3cw"
   },
   "source": [
    "# Applying Naive Bayes on Donors Choose Dataset"
   ]
  },
  {
   "cell_type": "markdown",
   "metadata": {},
   "source": [
    "In this task we will be applying Naive Bayes classifier on Donors Choose Dataset. DonorsChoose.org receives hundreds of thousands of project proposals each year for classroom projects in need of funding. Right now, a large number of volunteers is needed to manually screen each submission before it's approved to be posted on the DonorsChoose.org website.\n",
    "\n",
    "The goal of the task is to predict whether or not a DonorsChoose.org project proposal submitted by a teacher will be approved, using the text of project descriptions as well as additional metadata about the project, teacher, and school. We will be applying two encoding techniques BoW and IDF on the essay feature and compare their results. We have already performed EDA on this dataset and are using a cleaned preprocessed file for this task."
   ]
  },
  {
   "cell_type": "markdown",
   "metadata": {
    "id": "FYqCIxzFb3c5"
   },
   "source": [
    "## 1.1 Loading Data\n",
    "Importing the data into a python dataframe and removing the class label column 'project_is_approved' from the feature set x."
   ]
  },
  {
   "cell_type": "code",
   "execution_count": 1,
   "metadata": {},
   "outputs": [],
   "source": [
    "%matplotlib inline\n",
    "import warnings\n",
    "warnings.filterwarnings(\"ignore\")\n",
    "\n",
    "import pandas as pd\n",
    "import numpy as np\n",
    "import nltk\n",
    "import matplotlib.pyplot as plt\n",
    "import seaborn as sns\n",
    "from sklearn.feature_extraction.text import TfidfVectorizer\n",
    "from sklearn.feature_extraction.text import CountVectorizer\n",
    "from sklearn.metrics import confusion_matrix\n",
    "from sklearn import metrics\n",
    "from sklearn.metrics import roc_curve, auc\n",
    "\n",
    "import re\n",
    "# Tutorial about Python regular expressions: https://pymotw.com/2/re/\n",
    "\n",
    "import pickle\n",
    "from tqdm import tqdm\n",
    "import os\n",
    "\n",
    "from collections import Counter"
   ]
  },
  {
   "cell_type": "code",
   "execution_count": 3,
   "metadata": {
    "id": "dA1jknyqb3c_",
    "scrolled": true
   },
   "outputs": [
    {
     "data": {
      "text/html": [
       "<div>\n",
       "<style scoped>\n",
       "    .dataframe tbody tr th:only-of-type {\n",
       "        vertical-align: middle;\n",
       "    }\n",
       "\n",
       "    .dataframe tbody tr th {\n",
       "        vertical-align: top;\n",
       "    }\n",
       "\n",
       "    .dataframe thead th {\n",
       "        text-align: right;\n",
       "    }\n",
       "</style>\n",
       "<table border=\"1\" class=\"dataframe\">\n",
       "  <thead>\n",
       "    <tr style=\"text-align: right;\">\n",
       "      <th></th>\n",
       "      <th>school_state</th>\n",
       "      <th>teacher_prefix</th>\n",
       "      <th>project_grade_category</th>\n",
       "      <th>teacher_number_of_previously_posted_projects</th>\n",
       "      <th>project_is_approved</th>\n",
       "      <th>clean_categories</th>\n",
       "      <th>clean_subcategories</th>\n",
       "      <th>essay</th>\n",
       "      <th>price</th>\n",
       "    </tr>\n",
       "  </thead>\n",
       "  <tbody>\n",
       "    <tr>\n",
       "      <th>0</th>\n",
       "      <td>ca</td>\n",
       "      <td>mrs</td>\n",
       "      <td>grades_prek_2</td>\n",
       "      <td>53</td>\n",
       "      <td>1</td>\n",
       "      <td>math_science</td>\n",
       "      <td>appliedsciences health_lifescience</td>\n",
       "      <td>i fortunate enough use fairy tale stem kits cl...</td>\n",
       "      <td>725.05</td>\n",
       "    </tr>\n",
       "    <tr>\n",
       "      <th>1</th>\n",
       "      <td>ut</td>\n",
       "      <td>ms</td>\n",
       "      <td>grades_3_5</td>\n",
       "      <td>4</td>\n",
       "      <td>1</td>\n",
       "      <td>specialneeds</td>\n",
       "      <td>specialneeds</td>\n",
       "      <td>imagine 8 9 years old you third grade classroo...</td>\n",
       "      <td>213.03</td>\n",
       "    </tr>\n",
       "    <tr>\n",
       "      <th>2</th>\n",
       "      <td>ca</td>\n",
       "      <td>mrs</td>\n",
       "      <td>grades_prek_2</td>\n",
       "      <td>10</td>\n",
       "      <td>1</td>\n",
       "      <td>literacy_language</td>\n",
       "      <td>literacy</td>\n",
       "      <td>having class 24 students comes diverse learner...</td>\n",
       "      <td>329.00</td>\n",
       "    </tr>\n",
       "    <tr>\n",
       "      <th>3</th>\n",
       "      <td>ga</td>\n",
       "      <td>mrs</td>\n",
       "      <td>grades_prek_2</td>\n",
       "      <td>2</td>\n",
       "      <td>1</td>\n",
       "      <td>appliedlearning</td>\n",
       "      <td>earlydevelopment</td>\n",
       "      <td>i recently read article giving students choice...</td>\n",
       "      <td>481.04</td>\n",
       "    </tr>\n",
       "    <tr>\n",
       "      <th>4</th>\n",
       "      <td>wa</td>\n",
       "      <td>mrs</td>\n",
       "      <td>grades_3_5</td>\n",
       "      <td>2</td>\n",
       "      <td>1</td>\n",
       "      <td>literacy_language</td>\n",
       "      <td>literacy</td>\n",
       "      <td>my students crave challenge eat obstacles brea...</td>\n",
       "      <td>17.74</td>\n",
       "    </tr>\n",
       "  </tbody>\n",
       "</table>\n",
       "</div>"
      ],
      "text/plain": [
       "  school_state teacher_prefix project_grade_category  \\\n",
       "0           ca            mrs          grades_prek_2   \n",
       "1           ut             ms             grades_3_5   \n",
       "2           ca            mrs          grades_prek_2   \n",
       "3           ga            mrs          grades_prek_2   \n",
       "4           wa            mrs             grades_3_5   \n",
       "\n",
       "   teacher_number_of_previously_posted_projects  project_is_approved  \\\n",
       "0                                            53                    1   \n",
       "1                                             4                    1   \n",
       "2                                            10                    1   \n",
       "3                                             2                    1   \n",
       "4                                             2                    1   \n",
       "\n",
       "    clean_categories                 clean_subcategories  \\\n",
       "0       math_science  appliedsciences health_lifescience   \n",
       "1       specialneeds                        specialneeds   \n",
       "2  literacy_language                            literacy   \n",
       "3    appliedlearning                    earlydevelopment   \n",
       "4  literacy_language                            literacy   \n",
       "\n",
       "                                               essay   price  \n",
       "0  i fortunate enough use fairy tale stem kits cl...  725.05  \n",
       "1  imagine 8 9 years old you third grade classroo...  213.03  \n",
       "2  having class 24 students comes diverse learner...  329.00  \n",
       "3  i recently read article giving students choice...  481.04  \n",
       "4  my students crave challenge eat obstacles brea...   17.74  "
      ]
     },
     "execution_count": 3,
     "metadata": {},
     "output_type": "execute_result"
    }
   ],
   "source": [
    "import pandas\n",
    "data = pandas.read_csv('C:\\\\Users\\\\rishabhs\\\\Documents\\\\Assignment 8 - Naive Bayes\\\\preprocessed_data.csv',nrows=50000)\n",
    "data.head()"
   ]
  },
  {
   "cell_type": "code",
   "execution_count": 4,
   "metadata": {
    "scrolled": true
   },
   "outputs": [
    {
     "data": {
      "text/html": [
       "<div>\n",
       "<style scoped>\n",
       "    .dataframe tbody tr th:only-of-type {\n",
       "        vertical-align: middle;\n",
       "    }\n",
       "\n",
       "    .dataframe tbody tr th {\n",
       "        vertical-align: top;\n",
       "    }\n",
       "\n",
       "    .dataframe thead th {\n",
       "        text-align: right;\n",
       "    }\n",
       "</style>\n",
       "<table border=\"1\" class=\"dataframe\">\n",
       "  <thead>\n",
       "    <tr style=\"text-align: right;\">\n",
       "      <th></th>\n",
       "      <th>school_state</th>\n",
       "      <th>teacher_prefix</th>\n",
       "      <th>project_grade_category</th>\n",
       "      <th>teacher_number_of_previously_posted_projects</th>\n",
       "      <th>clean_categories</th>\n",
       "      <th>clean_subcategories</th>\n",
       "      <th>essay</th>\n",
       "      <th>price</th>\n",
       "    </tr>\n",
       "  </thead>\n",
       "  <tbody>\n",
       "    <tr>\n",
       "      <th>0</th>\n",
       "      <td>ca</td>\n",
       "      <td>mrs</td>\n",
       "      <td>grades_prek_2</td>\n",
       "      <td>53</td>\n",
       "      <td>math_science</td>\n",
       "      <td>appliedsciences health_lifescience</td>\n",
       "      <td>i fortunate enough use fairy tale stem kits cl...</td>\n",
       "      <td>725.05</td>\n",
       "    </tr>\n",
       "    <tr>\n",
       "      <th>1</th>\n",
       "      <td>ut</td>\n",
       "      <td>ms</td>\n",
       "      <td>grades_3_5</td>\n",
       "      <td>4</td>\n",
       "      <td>specialneeds</td>\n",
       "      <td>specialneeds</td>\n",
       "      <td>imagine 8 9 years old you third grade classroo...</td>\n",
       "      <td>213.03</td>\n",
       "    </tr>\n",
       "    <tr>\n",
       "      <th>2</th>\n",
       "      <td>ca</td>\n",
       "      <td>mrs</td>\n",
       "      <td>grades_prek_2</td>\n",
       "      <td>10</td>\n",
       "      <td>literacy_language</td>\n",
       "      <td>literacy</td>\n",
       "      <td>having class 24 students comes diverse learner...</td>\n",
       "      <td>329.00</td>\n",
       "    </tr>\n",
       "    <tr>\n",
       "      <th>3</th>\n",
       "      <td>ga</td>\n",
       "      <td>mrs</td>\n",
       "      <td>grades_prek_2</td>\n",
       "      <td>2</td>\n",
       "      <td>appliedlearning</td>\n",
       "      <td>earlydevelopment</td>\n",
       "      <td>i recently read article giving students choice...</td>\n",
       "      <td>481.04</td>\n",
       "    </tr>\n",
       "    <tr>\n",
       "      <th>4</th>\n",
       "      <td>wa</td>\n",
       "      <td>mrs</td>\n",
       "      <td>grades_3_5</td>\n",
       "      <td>2</td>\n",
       "      <td>literacy_language</td>\n",
       "      <td>literacy</td>\n",
       "      <td>my students crave challenge eat obstacles brea...</td>\n",
       "      <td>17.74</td>\n",
       "    </tr>\n",
       "    <tr>\n",
       "      <th>...</th>\n",
       "      <td>...</td>\n",
       "      <td>...</td>\n",
       "      <td>...</td>\n",
       "      <td>...</td>\n",
       "      <td>...</td>\n",
       "      <td>...</td>\n",
       "      <td>...</td>\n",
       "      <td>...</td>\n",
       "    </tr>\n",
       "    <tr>\n",
       "      <th>49995</th>\n",
       "      <td>ky</td>\n",
       "      <td>mrs</td>\n",
       "      <td>grades_3_5</td>\n",
       "      <td>0</td>\n",
       "      <td>math_science</td>\n",
       "      <td>mathematics</td>\n",
       "      <td>my students selfless group students i ever met...</td>\n",
       "      <td>150.92</td>\n",
       "    </tr>\n",
       "    <tr>\n",
       "      <th>49996</th>\n",
       "      <td>md</td>\n",
       "      <td>mrs</td>\n",
       "      <td>grades_3_5</td>\n",
       "      <td>3</td>\n",
       "      <td>math_science specialneeds</td>\n",
       "      <td>mathematics specialneeds</td>\n",
       "      <td>my third grade math students defying odds balt...</td>\n",
       "      <td>19.74</td>\n",
       "    </tr>\n",
       "    <tr>\n",
       "      <th>49997</th>\n",
       "      <td>id</td>\n",
       "      <td>mrs</td>\n",
       "      <td>grades_prek_2</td>\n",
       "      <td>1</td>\n",
       "      <td>literacy_language math_science</td>\n",
       "      <td>literacy mathematics</td>\n",
       "      <td>my kindergartners active little ones love lear...</td>\n",
       "      <td>64.98</td>\n",
       "    </tr>\n",
       "    <tr>\n",
       "      <th>49998</th>\n",
       "      <td>fl</td>\n",
       "      <td>mrs</td>\n",
       "      <td>grades_3_5</td>\n",
       "      <td>0</td>\n",
       "      <td>literacy_language</td>\n",
       "      <td>literature_writing</td>\n",
       "      <td>i privileged teach dynamic group fourth grader...</td>\n",
       "      <td>6.60</td>\n",
       "    </tr>\n",
       "    <tr>\n",
       "      <th>49999</th>\n",
       "      <td>fl</td>\n",
       "      <td>mrs</td>\n",
       "      <td>grades_prek_2</td>\n",
       "      <td>1</td>\n",
       "      <td>history_civics literacy_language</td>\n",
       "      <td>history_geography literacy</td>\n",
       "      <td>every 1st grade student class story some stori...</td>\n",
       "      <td>49.99</td>\n",
       "    </tr>\n",
       "  </tbody>\n",
       "</table>\n",
       "<p>50000 rows × 8 columns</p>\n",
       "</div>"
      ],
      "text/plain": [
       "      school_state teacher_prefix project_grade_category  \\\n",
       "0               ca            mrs          grades_prek_2   \n",
       "1               ut             ms             grades_3_5   \n",
       "2               ca            mrs          grades_prek_2   \n",
       "3               ga            mrs          grades_prek_2   \n",
       "4               wa            mrs             grades_3_5   \n",
       "...            ...            ...                    ...   \n",
       "49995           ky            mrs             grades_3_5   \n",
       "49996           md            mrs             grades_3_5   \n",
       "49997           id            mrs          grades_prek_2   \n",
       "49998           fl            mrs             grades_3_5   \n",
       "49999           fl            mrs          grades_prek_2   \n",
       "\n",
       "       teacher_number_of_previously_posted_projects  \\\n",
       "0                                                53   \n",
       "1                                                 4   \n",
       "2                                                10   \n",
       "3                                                 2   \n",
       "4                                                 2   \n",
       "...                                             ...   \n",
       "49995                                             0   \n",
       "49996                                             3   \n",
       "49997                                             1   \n",
       "49998                                             0   \n",
       "49999                                             1   \n",
       "\n",
       "                       clean_categories                 clean_subcategories  \\\n",
       "0                          math_science  appliedsciences health_lifescience   \n",
       "1                          specialneeds                        specialneeds   \n",
       "2                     literacy_language                            literacy   \n",
       "3                       appliedlearning                    earlydevelopment   \n",
       "4                     literacy_language                            literacy   \n",
       "...                                 ...                                 ...   \n",
       "49995                      math_science                         mathematics   \n",
       "49996         math_science specialneeds            mathematics specialneeds   \n",
       "49997    literacy_language math_science                literacy mathematics   \n",
       "49998                 literacy_language                  literature_writing   \n",
       "49999  history_civics literacy_language          history_geography literacy   \n",
       "\n",
       "                                                   essay   price  \n",
       "0      i fortunate enough use fairy tale stem kits cl...  725.05  \n",
       "1      imagine 8 9 years old you third grade classroo...  213.03  \n",
       "2      having class 24 students comes diverse learner...  329.00  \n",
       "3      i recently read article giving students choice...  481.04  \n",
       "4      my students crave challenge eat obstacles brea...   17.74  \n",
       "...                                                  ...     ...  \n",
       "49995  my students selfless group students i ever met...  150.92  \n",
       "49996  my third grade math students defying odds balt...   19.74  \n",
       "49997  my kindergartners active little ones love lear...   64.98  \n",
       "49998  i privileged teach dynamic group fourth grader...    6.60  \n",
       "49999  every 1st grade student class story some stori...   49.99  \n",
       "\n",
       "[50000 rows x 8 columns]"
      ]
     },
     "execution_count": 4,
     "metadata": {},
     "output_type": "execute_result"
    }
   ],
   "source": [
    "y = data['project_is_approved'].values\n",
    "x = data.drop(['project_is_approved'],axis = 1)\n",
    "x"
   ]
  },
  {
   "cell_type": "markdown",
   "metadata": {
    "id": "WtVV13Fyb3dH"
   },
   "source": [
    "<h2>1.2 Splitting data into Train and cross validation(or test): Stratified Sampling</h2>"
   ]
  },
  {
   "cell_type": "code",
   "execution_count": 6,
   "metadata": {
    "id": "i-PyprDNb3dI"
   },
   "outputs": [],
   "source": [
    " from sklearn.model_selection import train_test_split\n",
    "    \n",
    "x_train,x_test,y_train,y_test = train_test_split(x,y,test_size = 0.33,stratify = y)  #splitting x data into train and test dataset\n",
    "X_train,x_cv,y_train,y_cv = train_test_split(x_train,y_train, test_size = 0.33,stratify = y_train) #splitting x_train into train and cross validation datasets as we would be using for loop for Naive Bayes implementaion"
   ]
  },
  {
   "cell_type": "markdown",
   "metadata": {
    "id": "EnZwVNULb3dO"
   },
   "source": [
    "<h2>Make Data Model Ready:</h2>"
   ]
  },
  {
   "cell_type": "markdown",
   "metadata": {},
   "source": [
    "<ol>\n",
    "    <strong>We will be applying Naive Bayes on the following feature sets.</strong>\n",
    "        <ul>\n",
    "                <dl>\n",
    "                  <dt>Text Features:</dt>\n",
    "                  <dd> - essay</dd>\n",
    "                  <dt>Categorical Features:</dt>\n",
    "                  <dd> - teacher_prefix</dd>\n",
    "                  <dd> - project_grade_category</dd>\n",
    "                  <dd> - school_state</dd>\n",
    "                  <dd> - clean_categories</dd>\n",
    "                  <dd> - clean_subcategories</dd>\n",
    "                  <dt>Numerical Features:</dt>\n",
    "                  <dd> - price</dd>\n",
    "                  <dd> - teacher_number_of_previously_posted_projects</dd>\n",
    "                </dl>    \n",
    "            <li><font color='red'>Set 1</font>: categorical, numerical features + preprocessed_eassay (BOW)</li>\n",
    "            <li><font color='red'>Set 2</font>: categorical, numerical features + preprocessed_eassay (TFIDF)</li>\n",
    "        </ul>"
   ]
  },
  {
   "cell_type": "markdown",
   "metadata": {},
   "source": [
    "<h3>1.3 Encoding text feature: Essay</h3>"
   ]
  },
  {
   "cell_type": "code",
   "execution_count": 7,
   "metadata": {
    "id": "-SczZKiab3dR"
   },
   "outputs": [
    {
     "name": "stdout",
     "output_type": "stream",
     "text": [
      "(22445, 8) (22445,)\n",
      "(11055, 8) (11055,)\n",
      "(16500, 8) (16500,)\n",
      "----------------------------------------------------------------------------------------------------\n",
      "After Vectorization\n",
      "(22445, 5000) (22445,)\n",
      "(11055, 5000) (11055,)\n",
      "(16500, 5000) (16500,)\n"
     ]
    }
   ],
   "source": [
    "print(X_train.shape, y_train.shape)\n",
    "print(x_cv.shape,y_cv.shape)\n",
    "print(x_test.shape,y_test.shape)\n",
    "\n",
    "vec = CountVectorizer(min_df = 4, ngram_range = (1,4),max_features=5000) #initializing vectorizer\n",
    "\n",
    "X_train_essay_bow = vec.fit_transform(X_train['essay']) #fitting only train data and transforming all data for BOW\n",
    "x_cv_essay_bow = vec.transform(x_cv['essay'])\n",
    "x_test_essay_bow = vec.transform(x_test['essay'])\n",
    "\n",
    "print('-' *100)\n",
    "print('After Vectorization')\n",
    "print(X_train_essay_bow.shape,y_train.shape)\n",
    "print(x_cv_essay_bow.shape,y_cv.shape)\n",
    "print(x_test_essay_bow.shape,y_test.shape)"
   ]
  },
  {
   "cell_type": "code",
   "execution_count": 8,
   "metadata": {},
   "outputs": [
    {
     "name": "stdout",
     "output_type": "stream",
     "text": [
      "----------------------------------------------------------------------------------------------------\n",
      "After IDF Vectorization\n",
      "(22445, 5000) (22445,)\n",
      "(11055, 5000) (11055,)\n",
      "(16500, 5000) (16500,)\n"
     ]
    }
   ],
   "source": [
    "idf_vec = TfidfVectorizer(min_df = 4, ngram_range = (1,4),max_features=5000) #initializing IDF vectorizer\n",
    "idf_vec.fit(X_train['essay'])                                                #fitting the train data\n",
    "\n",
    "X_train_essay_idf = idf_vec.transform(X_train['essay'])                     #getting idf for train,test and cv data\n",
    "x_cv_essay_idf = idf_vec.transform(x_cv['essay'])\n",
    "x_test_essay_idf = idf_vec.transform(x_test['essay'])\n",
    "\n",
    "print('-' *100)\n",
    "print('After IDF Vectorization')\n",
    "print(X_train_essay_idf.shape,y_train.shape)\n",
    "print(x_cv_essay_idf.shape,y_cv.shape)\n",
    "print(x_test_essay_idf.shape,y_test.shape)"
   ]
  },
  {
   "cell_type": "markdown",
   "metadata": {
    "id": "bGy86kgHb3dX"
   },
   "source": [
    "<h2>1.4 Encoding Numerical, Categorical Features</h2>"
   ]
  },
  {
   "cell_type": "markdown",
   "metadata": {},
   "source": [
    "<h3>1.4.1 Encoding categorical features: school_state</h3>"
   ]
  },
  {
   "cell_type": "code",
   "execution_count": 9,
   "metadata": {},
   "outputs": [
    {
     "name": "stdout",
     "output_type": "stream",
     "text": [
      "(22445, 51) (22445,)\n",
      "(11055, 51) (11055,)\n",
      "(16500, 51) (16500,)\n",
      "['ak', 'al', 'ar', 'az', 'ca', 'co', 'ct', 'dc', 'de', 'fl', 'ga', 'hi', 'ia', 'id', 'il', 'in', 'ks', 'ky', 'la', 'ma', 'md', 'me', 'mi', 'mn', 'mo', 'ms', 'mt', 'nc', 'nd', 'ne', 'nh', 'nj', 'nm', 'nv', 'ny', 'oh', 'ok', 'or', 'pa', 'ri', 'sc', 'sd', 'tn', 'tx', 'ut', 'va', 'vt', 'wa', 'wi', 'wv', 'wy']\n",
      "_______________________________________________________________________________________________________________________________\n"
     ]
    }
   ],
   "source": [
    "vec = CountVectorizer()\n",
    "X_train_state_ohe = vec.fit_transform(X_train['school_state'])\n",
    "x_cv_state_ohe = vec.transform(x_cv['school_state'])\n",
    "x_test_state_ohe = vec.transform(x_test['school_state'])\n",
    "\n",
    "print(X_train_state_ohe.shape,y_train.shape)\n",
    "print(x_cv_state_ohe.shape,y_cv.shape)\n",
    "print(x_test_state_ohe.shape,y_test.shape)\n",
    "print(vec.get_feature_names())\n",
    "print('_' *127)"
   ]
  },
  {
   "cell_type": "markdown",
   "metadata": {},
   "source": [
    "<h3>1.4.2 Encoding categorical features: teacher_prefix</h3>"
   ]
  },
  {
   "cell_type": "code",
   "execution_count": 172,
   "metadata": {},
   "outputs": [
    {
     "name": "stdout",
     "output_type": "stream",
     "text": [
      "(22445, 5) (22445,)\n",
      "(11055, 5) (11055,)\n",
      "(16500, 5) (16500,)\n",
      "['dr', 'mr', 'mrs', 'ms', 'teacher']\n",
      "_______________________________________________________________________________________________________________________________\n"
     ]
    }
   ],
   "source": [
    "vec = CountVectorizer()\n",
    "X_train_teacher_pre_ohe = vec.fit_transform(X_train['teacher_prefix'])\n",
    "x_cv_teacher_pre_ohe = vec.transform(x_cv['teacher_prefix'])\n",
    "x_test_teacher_pre_ohe = vec.transform(x_test['teacher_prefix'])\n",
    "\n",
    "print(X_train_teacher_pre_ohe.shape,y_train.shape)\n",
    "print(x_cv_teacher_pre_ohe.shape,y_cv.shape)\n",
    "print(x_test_teacher_pre_ohe.shape,y_test.shape)\n",
    "print(vec.get_feature_names())\n",
    "print('_' *127)"
   ]
  },
  {
   "cell_type": "markdown",
   "metadata": {},
   "source": [
    "<h3>1.4.3 Encoding categorical features: project_grade_category</h3>"
   ]
  },
  {
   "cell_type": "code",
   "execution_count": 11,
   "metadata": {},
   "outputs": [
    {
     "name": "stdout",
     "output_type": "stream",
     "text": [
      "(22445, 4) (22445,)\n",
      "(11055, 4) (11055,)\n",
      "(16500, 4) (16500,)\n",
      "['grades_3_5', 'grades_6_8', 'grades_9_12', 'grades_prek_2']\n",
      "_______________________________________________________________________________________________________________________________\n"
     ]
    }
   ],
   "source": [
    "vec = CountVectorizer()\n",
    "X_train_project_grade_ohe = vec.fit_transform(X_train['project_grade_category'])\n",
    "x_cv_project_grade_ohe = vec.transform(x_cv['project_grade_category'])\n",
    "x_test_project_grade_ohe = vec.transform(x_test['project_grade_category'])\n",
    "\n",
    "print(X_train_project_grade_ohe.shape,y_train.shape)\n",
    "print(x_cv_project_grade_ohe.shape,y_cv.shape)\n",
    "print(x_test_project_grade_ohe.shape,y_test.shape)\n",
    "print(vec.get_feature_names())\n",
    "print('_' *127)"
   ]
  },
  {
   "cell_type": "markdown",
   "metadata": {},
   "source": [
    "<h3>1.4.4 Encoding categorical features: clean_categories</h3>"
   ]
  },
  {
   "cell_type": "code",
   "execution_count": 173,
   "metadata": {},
   "outputs": [
    {
     "name": "stdout",
     "output_type": "stream",
     "text": [
      "(22445, 9) (22445,)\n",
      "(11055, 9) (11055,)\n",
      "(16500, 9) (16500,)\n",
      "['appliedlearning', 'care_hunger', 'health_sports', 'history_civics', 'literacy_language', 'math_science', 'music_arts', 'specialneeds', 'warmth']\n",
      "_______________________________________________________________________________________________________________________________\n"
     ]
    }
   ],
   "source": [
    "vec = CountVectorizer()\n",
    "X_train_clean_categories_ohe = vec.fit_transform(X_train['clean_categories'])\n",
    "x_cv_clean_categories_ohe = vec.transform(x_cv['clean_categories'])\n",
    "x_test_clean_categories_ohe = vec.transform(x_test['clean_categories'])\n",
    "\n",
    "print(X_train_clean_categories_ohe.shape,y_train.shape)\n",
    "print(x_cv_clean_categories_ohe.shape,y_cv.shape)\n",
    "print(x_test_clean_categories_ohe.shape,y_test.shape)\n",
    "print(vec.get_feature_names())\n",
    "print('_' *127)"
   ]
  },
  {
   "cell_type": "markdown",
   "metadata": {},
   "source": [
    "<h3>1.4.5 Encoding categorical features: clean_subcategories</h3>"
   ]
  },
  {
   "cell_type": "code",
   "execution_count": 174,
   "metadata": {},
   "outputs": [
    {
     "name": "stdout",
     "output_type": "stream",
     "text": [
      "(22445, 30) (22445,)\n",
      "(11055, 30) (11055,)\n",
      "(16500, 30) (16500,)\n",
      "['appliedsciences', 'care_hunger', 'charactereducation', 'civics_government', 'college_careerprep', 'communityservice', 'earlydevelopment', 'economics', 'environmentalscience', 'esl', 'extracurricular', 'financialliteracy', 'foreignlanguages', 'gym_fitness', 'health_lifescience', 'health_wellness', 'history_geography', 'literacy', 'literature_writing', 'mathematics', 'music', 'nutritioneducation', 'other', 'parentinvolvement', 'performingarts', 'socialsciences', 'specialneeds', 'teamsports', 'visualarts', 'warmth']\n",
      "_______________________________________________________________________________________________________________________________\n"
     ]
    }
   ],
   "source": [
    "vec = CountVectorizer()\n",
    "X_train_clean_subcategories_ohe = vec.fit_transform(X_train['clean_subcategories'])\n",
    "x_cv_clean_subcategories_ohe = vec.transform(x_cv['clean_subcategories'])\n",
    "x_test_clean_subcategories_ohe = vec.transform(x_test['clean_subcategories'])\n",
    "\n",
    "print(X_train_clean_subcategories_ohe.shape,y_train.shape)\n",
    "print(x_cv_clean_subcategories_ohe.shape,y_cv.shape)\n",
    "print(x_test_clean_subcategories_ohe.shape,y_test.shape)\n",
    "print(vec.get_feature_names())\n",
    "print('_' *127)"
   ]
  },
  {
   "cell_type": "markdown",
   "metadata": {},
   "source": [
    "<h3>1.4.6 Encoding numerical features: teacher_number_of_previously_posted_projects</h3>"
   ]
  },
  {
   "cell_type": "code",
   "execution_count": 14,
   "metadata": {},
   "outputs": [
    {
     "name": "stdout",
     "output_type": "stream",
     "text": [
      "After Normalization\n",
      "(22445, 1) (22445,)\n",
      "(11055, 1) (11055,)\n",
      "(16500, 1) (16500,)\n",
      "_______________________________________________________________________________________________________________________________\n"
     ]
    }
   ],
   "source": [
    "from sklearn.preprocessing import Normalizer\n",
    "normalizer = Normalizer()\n",
    "\n",
    "X_train_prev_proj = normalizer.fit_transform(X_train['teacher_number_of_previously_posted_projects'].values.reshape(1,-1))\n",
    "x_cv_prev_proj = normalizer.transform(x_cv['teacher_number_of_previously_posted_projects'].values.reshape(1,-1))\n",
    "x_test_prev_proj = normalizer.transform(x_test['teacher_number_of_previously_posted_projects'].values.reshape(1,-1))\n",
    "\n",
    "X_train_prev_proj = X_train_prev_proj.reshape(-1,1)\n",
    "x_cv_prev_proj = x_cv_prev_proj.reshape(-1,1)\n",
    "x_test_prev_proj = x_test_prev_proj.reshape(-1,1)\n",
    "\n",
    "print(\"After Normalization\")\n",
    "print(X_train_prev_proj.shape,y_train.shape)\n",
    "print(x_cv_prev_proj.shape,y_cv.shape)\n",
    "print(x_test_prev_proj.shape,y_test.shape)\n",
    "print('_' *127)"
   ]
  },
  {
   "cell_type": "markdown",
   "metadata": {},
   "source": [
    "<h3>1.4.7 Encoding numerical features: price</h3>"
   ]
  },
  {
   "cell_type": "code",
   "execution_count": 15,
   "metadata": {},
   "outputs": [
    {
     "name": "stdout",
     "output_type": "stream",
     "text": [
      "After Normalization\n",
      "(22445, 1) (22445,)\n",
      "(11055, 1) (11055,)\n",
      "(16500, 1) (16500,)\n",
      "_______________________________________________________________________________________________________________________________\n"
     ]
    }
   ],
   "source": [
    "from sklearn.preprocessing import Normalizer\n",
    "normalizer = Normalizer()\n",
    "# normalizer.fit(X_train['price'].values.reshape(-1,1))\n",
    "\n",
    "X_train_norm_price = normalizer.fit_transform(X_train['price'].values.reshape(1,-1)) #Reshaping the array to 2D array for transforming it\n",
    "x_cv_norm_price = normalizer.transform(x_cv['price'].values.reshape(1,-1))\n",
    "x_test_norm_price = normalizer.transform(x_test['price'].values.reshape(1,-1))\n",
    "\n",
    "X_train_norm_price = X_train_norm_price.reshape(-1,1) #reshaping it to row*col format\n",
    "x_cv_norm_price = x_cv_norm_price.reshape(-1,1)\n",
    "x_test_norm_price = x_test_norm_price.reshape(-1,1)\n",
    "\n",
    "print(\"After Normalization\")\n",
    "print(X_train_norm_price.shape,y_train.shape)\n",
    "print(x_cv_norm_price.shape,y_cv.shape)\n",
    "print(x_test_norm_price.shape,y_test.shape)\n",
    "print('_' *127)"
   ]
  },
  {
   "cell_type": "markdown",
   "metadata": {},
   "source": [
    "### 1.4.8 Concatinating all the features"
   ]
  },
  {
   "cell_type": "code",
   "execution_count": 175,
   "metadata": {},
   "outputs": [
    {
     "name": "stdout",
     "output_type": "stream",
     "text": [
      "Final Data matrix Set 1\n",
      "(22445, 5101) (22445,)\n",
      "(11055, 5101) (11055,)\n",
      "(16500, 5101) (16500,)\n",
      "-------------------------------------------------------------------------------------------------------------------------------\n",
      "Final Data matrix Set 2\n",
      "(22445, 5101) (22445,)\n",
      "(11055, 5101) (11055,)\n",
      "(16500, 5101) (16500,)\n",
      "-------------------------------------------------------------------------------------------------------------------------------\n"
     ]
    }
   ],
   "source": [
    "from scipy.sparse import hstack\n",
    "\n",
    "#Concatenating set1 BOW\n",
    "X_tr = hstack((X_train_essay_bow, X_train_state_ohe, X_train_teacher_pre_ohe, X_train_project_grade_ohe, X_train_clean_categories_ohe,X_train_clean_subcategories_ohe,X_train_prev_proj,X_train_norm_price)).tocsr()\n",
    "X_cr = hstack((x_cv_essay_bow, x_cv_state_ohe, x_cv_teacher_pre_ohe, x_cv_project_grade_ohe, x_cv_clean_categories_ohe,x_cv_clean_subcategories_ohe,x_cv_prev_proj,x_cv_norm_price)).tocsr()\n",
    "X_te = hstack((x_test_essay_bow, x_test_state_ohe, x_test_teacher_pre_ohe, x_test_project_grade_ohe, x_test_clean_categories_ohe,x_test_clean_subcategories_ohe,x_test_prev_proj,x_test_norm_price)).tocsr()\n",
    "\n",
    "#Concatenating set2 IDF\n",
    "X_tr_set2 = hstack((X_train_essay_idf, X_train_state_ohe, X_train_teacher_pre_ohe, X_train_project_grade_ohe, X_train_clean_categories_ohe,X_train_clean_subcategories_ohe,X_train_prev_proj,X_train_norm_price)).tocsr()\n",
    "X_cr_set2 = hstack((x_cv_essay_idf, x_cv_state_ohe, x_cv_teacher_pre_ohe, x_cv_project_grade_ohe, x_cv_clean_categories_ohe,x_cv_clean_subcategories_ohe,x_cv_prev_proj,x_cv_norm_price)).tocsr()\n",
    "X_te_set2 = hstack((x_test_essay_idf, x_test_state_ohe, x_test_teacher_pre_ohe, x_test_project_grade_ohe, x_test_clean_categories_ohe,x_test_clean_subcategories_ohe,x_test_prev_proj,x_test_norm_price)).tocsr()\n",
    "\n",
    "print(\"Final Data matrix Set 1\")\n",
    "print(X_tr.shape, y_train.shape)\n",
    "print(X_cr.shape, y_cv.shape)\n",
    "print(X_te.shape, y_test.shape)\n",
    "print(\"-\"*127)\n",
    "\n",
    "print(\"Final Data matrix Set 2\")\n",
    "print(X_tr_set2.shape, y_train.shape)\n",
    "print(X_cr_set2.shape, y_cv.shape)\n",
    "print(X_te_set2.shape, y_test.shape)\n",
    "print(\"-\"*127)"
   ]
  },
  {
   "cell_type": "markdown",
   "metadata": {
    "id": "yYHPYadYb3dh"
   },
   "source": [
    "<h2>1.5 Appling NB on different kind of featurization</h2>"
   ]
  },
  {
   "cell_type": "markdown",
   "metadata": {},
   "source": [
    "#### 1.5.1 Hyperparameter Tuning"
   ]
  },
  {
   "cell_type": "code",
   "execution_count": 17,
   "metadata": {},
   "outputs": [],
   "source": [
    "def batch_pred(nb, data):                         #defining a function with classifier and data as input\n",
    "    \n",
    "    tr_loop = data.shape[0] - data.shape[0]%1000  #considering multiple of thousand\n",
    "    y_data_prob = []\n",
    "    \n",
    "    for i in range(0,tr_loop,1000):               #taking 1000 values at a time\n",
    "        y_data_prob.extend(nb.predict_proba(data[i:i+1000])[:,1])\n",
    "        \n",
    "    if data.shape[0]%1000 != 0:                   #for remaining values left after mod 1000\n",
    "        y_data_prob.extend(nb.predict_proba(data[tr_loop:])[:,1])\n",
    "        \n",
    "    return y_data_prob                            #returning the probability scores"
   ]
  },
  {
   "cell_type": "code",
   "execution_count": 273,
   "metadata": {},
   "outputs": [
    {
     "name": "stderr",
     "output_type": "stream",
     "text": [
      "100%|██████████████████████████████████████████████████████████████████████████████████| 14/14 [00:02<00:00,  4.71it/s]\n"
     ]
    },
    {
     "data": {
      "image/png": "[encoded data removed]",
      "text/plain": [
       "<Figure size 432x288 with 1 Axes>"
      ]
     },
     "metadata": {
      "needs_background": "light"
     },
     "output_type": "display_data"
    }
   ],
   "source": [
    "import matplotlib.pyplot as plt\n",
    "from sklearn.naive_bayes import MultinomialNB\n",
    "from sklearn.metrics import roc_auc_score\n",
    "\n",
    "tr_auc = []                                       #declaring lists for auc scores of training and cv \n",
    "cv_auc = []\n",
    "\n",
    "alpha =  [0.00001,0.0005, 0.0001,0.005,0.001,0.05,0.01,0.1,0.5,1,5,10,50,100]\n",
    "\n",
    "for i in tqdm(K):\n",
    "\n",
    "    naive_bayes = MultinomialNB(alpha = i,class_prior =[0.5,0.5])\n",
    "    naive_bayes.fit(X_tr,y_train)                 #fitting the training dataset in Naive Bayes classifier\n",
    "    \n",
    "    tr_prob = batch_pred(naive_bayes, X_tr)       #predicting probability scores using batch_pred function\n",
    "    cv_prob = batch_pred(naive_bayes, X_cr)\n",
    "    \n",
    "    tr_auc.append(roc_auc_score(y_train,tr_prob)) #storing class label and probability scores\n",
    "    cv_auc.append(roc_auc_score(y_cv,cv_prob))\n",
    "\n",
    "log_alpha = np.log(alpha)                         #taking log(alpha) because the alpha value has a large range\n",
    "\n",
    "plt.plot(log_alpha, tr_auc, label='Train AUC')    #plotting Train and validation AUC\n",
    "plt.plot(log_alpha, cv_auc, label='Validation AUC')\n",
    "\n",
    "plt.legend()\n",
    "plt.xlabel(\"Log(alpha): hyperparameter\")\n",
    "plt.ylabel(\"AUC\")\n",
    "plt.title(\"ERROR PLOTS Set 1\")\n",
    "plt.grid()\n",
    "plt.show()"
   ]
  },
  {
   "cell_type": "code",
   "execution_count": 23,
   "metadata": {},
   "outputs": [
    {
     "name": "stderr",
     "output_type": "stream",
     "text": [
      "100%|██████████████████████████████████████████████████████████████████████████████████| 14/14 [00:02<00:00,  5.49it/s]\n"
     ]
    },
    {
     "name": "stdout",
     "output_type": "stream",
     "text": [
      "[0.7359234569085416, 0.7359127140185123, 0.7359216123189073, 0.7358179463814686, 0.7359032254494343, 0.734865090403338, 0.73571236207081, 0.7338265864393149, 0.7257845297956563, 0.7162422462674729, 0.6572281572918474, 0.6156464290589273, 0.5510455502964255, 0.5406361030461553]\n",
      "[0.6645975983376383, 0.6645933998399703, 0.6645963813817926, 0.664543382954708, 0.6645860981048954, 0.6641593725375659, 0.6645037710419273, 0.6637072734408513, 0.6598934555157003, 0.654816376574817, 0.6159544128340163, 0.5848973345624588, 0.5342543863652267, 0.5255544907191905]\n"
     ]
    },
    {
     "data": {
      "image/png": "[encoded data removed]",
      "text/plain": [
       "<Figure size 432x288 with 1 Axes>"
      ]
     },
     "metadata": {
      "needs_background": "light"
     },
     "output_type": "display_data"
    }
   ],
   "source": [
    "#Same code for set2\n",
    "tr_auc_set2 = []\n",
    "cv_auc_set2 = []\n",
    "\n",
    "alpha =  [0.00001,0.0005, 0.0001,0.005,0.001,0.05,0.01,0.1,0.5,1,5,10,50,100]\n",
    "\n",
    "for i in tqdm(K):\n",
    "\n",
    "    naive_bayes = MultinomialNB(alpha = i,class_prior =[0.5,0.5])\n",
    "    naive_bayes.fit(X_tr_set2,y_train)\n",
    "    \n",
    "    tr_prob_set2 = batch_pred(naive_bayes, X_tr_set2)\n",
    "    cv_prob_set2 = batch_pred(naive_bayes, X_cr_set2)\n",
    "    \n",
    "    tr_auc_set2.append(roc_auc_score(y_train,tr_prob_set2))\n",
    "    cv_auc_set2.append(roc_auc_score(y_cv,cv_prob_set2))\n",
    "\n",
    "log_alpha = np.log(alpha)\n",
    "\n",
    "plt.plot(log_alpha, tr_auc_set2, label='Train AUC')\n",
    "plt.plot(log_alpha, cv_auc_set2, label='Validation AUC')\n",
    "\n",
    "plt.legend()\n",
    "plt.xlabel(\"Log(alpha): hyperparameter\")\n",
    "plt.ylabel(\"AUC\")\n",
    "plt.title(\"ERROR PLOTS Set 2\")\n",
    "plt.grid()\n",
    "plt.show()"
   ]
  },
  {
   "cell_type": "markdown",
   "metadata": {},
   "source": [
    "### 1.5.2 Testing the Model using Test Data"
   ]
  },
  {
   "cell_type": "code",
   "execution_count": 47,
   "metadata": {},
   "outputs": [],
   "source": [
    "best_alpha = 1"
   ]
  },
  {
   "cell_type": "code",
   "execution_count": 315,
   "metadata": {},
   "outputs": [
    {
     "data": {
      "image/png": "[encoded data removed]",
      "text/plain": [
       "<Figure size 432x288 with 1 Axes>"
      ]
     },
     "metadata": {
      "needs_background": "light"
     },
     "output_type": "display_data"
    }
   ],
   "source": [
    "clf = MultinomialNB(alpha=best_alpha, class_prior=[0.5,0.5]) #initializinf NB and fitting training data\n",
    "clf.fit(X_tr,y_train)\n",
    "\n",
    "# y_pred = clf.predict(X_te)                                #storing predicted class labels which will be required for calculating Confusion Matrix\n",
    "\n",
    "y_train_prob = batch_pred(clf,X_tr)                          #Calculating probability scores required for roc_curve\n",
    "y_test_prob = batch_pred(clf,X_te)\n",
    "\n",
    "tr_fpr, tr_tpr, tr_thres = roc_curve(y_train,y_train_prob)   #calculating tpr and fpr\n",
    "te_fpr, te_tpr, te_thres = roc_curve(y_test,y_test_prob)\n",
    "\n",
    "plt.plot(tr_fpr,tr_tpr,label='Train AUC ='+str(auc(tr_fpr,tr_tpr))) #plotting and calculating AUC\n",
    "plt.plot(te_fpr,te_tpr,label='Test AUC ='+str(auc(te_fpr,te_tpr)))\n",
    "plt.plot([0,1],[0,1],'--')\n",
    "plt.legend()\n",
    "plt.xlabel('Hyperparameter(alpha)')\n",
    "plt.ylabel('AUC')\n",
    "plt.grid()\n",
    "plt.title('Error Plots Set 1')\n",
    "plt.show()"
   ]
  },
  {
   "cell_type": "code",
   "execution_count": 313,
   "metadata": {},
   "outputs": [
    {
     "data": {
      "image/png": "[encoded data removed]",
      "text/plain": [
       "<Figure size 432x288 with 1 Axes>"
      ]
     },
     "metadata": {
      "needs_background": "light"
     },
     "output_type": "display_data"
    }
   ],
   "source": [
    "#Same code for set2\n",
    "clf = MultinomialNB(alpha=best_alpha, class_prior=[0.5,0.5])\n",
    "clf.fit(X_tr_set2,y_train)\n",
    "\n",
    "y_train_prob_s2 = batch_pred(clf,X_tr_set2)\n",
    "y_test_prob_s2 = batch_pred(clf,X_te_set2)\n",
    "# y_pred_set2 = clf.predict(X_te_set2)\n",
    "\n",
    "tr_fpr_s2, tr_tpr_s2, tr_thres_s2 = roc_curve(y_train,y_train_prob_s2)\n",
    "te_fpr_s2, te_tpr_s2, te_thres_s2 = roc_curve(y_test,y_test_prob_s2)\n",
    "\n",
    "plt.plot(tr_fpr_s2,tr_tpr_s2,label='Train AUC ='+str(auc(tr_fpr_s2,tr_tpr_s2)))\n",
    "plt.plot(te_fpr_s2,te_tpr_s2,label='Test AUC ='+str(auc(te_fpr_s2,te_tpr_s2)))\n",
    "plt.plot([0,1],[0,1],'--')\n",
    "plt.legend()\n",
    "plt.xlabel('Hyperparameter(alpha)')\n",
    "plt.ylabel('AUC')\n",
    "plt.grid()\n",
    "plt.title('Error Plots Set 2')\n",
    "plt.show()"
   ]
  },
  {
   "cell_type": "markdown",
   "metadata": {},
   "source": [
    "### 1.5.3 Displaying Confusion Matrix"
   ]
  },
  {
   "cell_type": "code",
   "execution_count": 316,
   "metadata": {},
   "outputs": [],
   "source": [
    "# we are writing our own function for predict, with defined threshold\n",
    "# we will pick a threshold that will give the least fpr\n",
    "def find_best_t(threshold,tpr,fpr):\n",
    "    t = threshold[np.argmax(tpr*(1-fpr))] \n",
    "    # (tpr*(1-fpr)) will be maximum if your fpr is very low and tpr is very high\n",
    "    print(\"the maximum value of tpr*(1-fpr)\", max(tpr*(1-fpr)), \"for threshold\", np.round(t,3))\n",
    "    return t\n",
    "\n",
    "def predict_with_best_t(pred,threshold):\n",
    "    predictions=[]\n",
    "    for i in pred:\n",
    "        if i>= threshold:\n",
    "            predictions.append(1)\n",
    "        else:\n",
    "            predictions.append(0)\n",
    "    return predictions\n",
    "\n"
   ]
  },
  {
   "cell_type": "code",
   "execution_count": 317,
   "metadata": {},
   "outputs": [
    {
     "name": "stdout",
     "output_type": "stream",
     "text": [
      "the maximum value of tpr*(1-fpr) 0.4767461143719357 for threshold 0.402\n"
     ]
    },
    {
     "data": {
      "image/png": "[encoded data removed]",
      "text/plain": [
       "<Figure size 432x288 with 2 Axes>"
      ]
     },
     "metadata": {
      "needs_background": "light"
     },
     "output_type": "display_data"
    }
   ],
   "source": [
    "from sklearn.metrics import confusion_matrix\n",
    "best_t = find_best_t(tr_thres, tr_tpr, tr_fpr)\n",
    "\n",
    "cm_train = confusion_matrix(y_train, predict_with_best_t(y_train_prob, best_t))   #calculating confusion matrix for test and train\n",
    "cm_test = confusion_matrix(y_test, predict_with_best_t(y_test_prob, best_t))             \n",
    "\n",
    "## Matrix Formatting ##\n",
    "\n",
    "#https://medium.com/@dtuk81/confusion-matrix-visualization-fc31e3f30fea\n",
    "def get_label(cm):\n",
    "    group_names = ['TN =','FP =','FN =','TP =']       #storing group names required for labelling the matrix\n",
    "    group_counts = [value for value in cm.flatten()]  #storing group counts\n",
    "    group_percentages = [\"{0:.2%}\".format(value) for value in cm.flatten()/np.sum(cm)] #calculating the percentage for each group with two decimals\n",
    "\n",
    "    labels = [f\"{v1}{v2}\\n{v3}\" for v1, v2, v3 in zip(group_names,group_counts,group_percentages)] #storing the label values\n",
    "    labels = np.asarray(labels).reshape(2,2)\n",
    "    \n",
    "    return labels\n",
    "\n",
    "\n",
    "ax= plt.subplot(1,2,1);\n",
    "sns.heatmap(cm_train, annot=get_label(cm_train),fmt='',cmap='Blues',cbar=False,ax=ax);\n",
    "\n",
    "# labels, title and ticks\n",
    "ax.set_xlabel('PREDICTED');ax.set_ylabel('ACTUAL'); \n",
    "ax.set_title('Train Confusion Matrix');\n",
    "ax.xaxis.set_ticklabels(['NO','YES']); \n",
    "ax.yaxis.set_ticklabels(['NO','YES']);\n",
    "\n",
    "ax= plt.subplot(1,2,2);\n",
    "sns.heatmap(cm_test, annot=get_label(cm_test),fmt='',cmap='Blues',cbar=False,ax=ax);\n",
    "\n",
    "# labels, title and ticks\n",
    "ax.set_xlabel('PREDICTED');ax.set_ylabel('ACTUAL'); \n",
    "ax.set_title('Test Confusion Matrix');\n",
    "ax.xaxis.set_ticklabels(['NO','YES']); \n",
    "ax.yaxis.set_ticklabels(['NO','YES']);\n",
    "\n"
   ]
  },
  {
   "cell_type": "code",
   "execution_count": 319,
   "metadata": {},
   "outputs": [
    {
     "name": "stdout",
     "output_type": "stream",
     "text": [
      "the maximum value of tpr*(1-fpr) 0.4361246942592681 for threshold 0.521\n"
     ]
    },
    {
     "data": {
      "image/png": "[encoded data removed]",
      "text/plain": [
       "<Figure size 432x288 with 2 Axes>"
      ]
     },
     "metadata": {
      "needs_background": "light"
     },
     "output_type": "display_data"
    }
   ],
   "source": [
    "#same code for set2\n",
    "best_t_s2 = find_best_t(tr_thres_s2, tr_tpr_s2, tr_fpr_s2)\n",
    "\n",
    "cm_train_s2 = confusion_matrix(y_train, predict_with_best_t(y_train_prob_s2, best_t_s2))   #calculating confusion matrix for test and train\n",
    "cm_test_s2 = confusion_matrix(y_test, predict_with_best_t(y_test_prob_s2, best_t_s2))             \n",
    "\n",
    "## Matrix Formatting ##\n",
    "\n",
    "ax= plt.subplot(1,2,1);\n",
    "sns.heatmap(cm_train_s2, annot=get_label(cm_train_s2),fmt='',cmap='Blues',cbar=False,ax=ax);\n",
    "\n",
    "# labels, title and ticks\n",
    "ax.set_xlabel('PREDICTED');ax.set_ylabel('ACTUAL'); \n",
    "ax.set_title('Train Confusion Matrix Set2');\n",
    "ax.xaxis.set_ticklabels(['NO','YES']); \n",
    "ax.yaxis.set_ticklabels(['NO','YES']);\n",
    "\n",
    "ax= plt.subplot(1,2,2);\n",
    "sns.heatmap(cm_test_s2, annot=get_label(cm_test_s2),fmt='',cmap='Blues',cbar=False,ax=ax);\n",
    "\n",
    "# labels, title and ticks\n",
    "ax.set_xlabel('PREDICTED');ax.set_ylabel('ACTUAL'); \n",
    "ax.set_title('Test Confusion Matrix Set2');\n",
    "ax.xaxis.set_ticklabels(['NO','YES']); \n",
    "ax.yaxis.set_ticklabels(['NO','YES']);\n"
   ]
  },
  {
   "cell_type": "markdown",
   "metadata": {},
   "source": [
    "# 2. Displaying Top 20 Features"
   ]
  },
  {
   "cell_type": "code",
   "execution_count": 223,
   "metadata": {},
   "outputs": [],
   "source": [
    "features=[]                                #declaring an empty list for storing the features\n",
    "\n",
    "vec = CountVectorizer(min_df = 4, ngram_range = (1,4),max_features=5000) #initializing count vectorizer for storing text with 5000 features\n",
    "vec.fit(X_train['essay'])                  #fitting training data for essay\n",
    "features.extend(vec.get_feature_names())   #storing the features in the list\n",
    "\n",
    "columns = ['school_state','teacher_prefix','project_grade_category','clean_categories','clean_subcategories'] #storing the column names of the categorical columns in the dataframe\n",
    "\n",
    "vectorizer = CountVectorizer()             #initializing count vectorizer\n",
    "\n",
    "for i in columns:                          #for each column\n",
    "    vectorizer.fit(X_train[i])             #fit train data for that column\n",
    "    features.extend(vectorizer.get_feature_names()) #store the feature names for categorical data\n",
    "\n",
    "features.append('teacher_number_of_previously_posted_projects') #appending the numerical columns to the feature set.\n",
    "features.append('price')"
   ]
  },
  {
   "cell_type": "code",
   "execution_count": 244,
   "metadata": {},
   "outputs": [
    {
     "name": "stdout",
     "output_type": "stream",
     "text": [
      "Top 20 Features helpful in determining negative Class label :\n",
      "\n",
      "['students', 'school', 'learning', 'my', 'classroom', 'not', 'learn', 'help', 'they', 'my students', 'the', 'many', 'nannan', 'need', 'we', 'work', 'year', 'come', 'reading', 'able'] \n",
      "\n",
      "Top 20 Features helpful in determining positive Class label :\n",
      "\n",
      "['students', 'school', 'my', 'classroom', 'learning', 'the', 'not', 'they', 'learn', 'my students', 'help', 'many', 'nannan', 'reading', 'work', 'we', 'need', 'use', 'day', 'able']\n"
     ]
    }
   ],
   "source": [
    "clf = MultinomialNB(alpha =1,class_prior =[0.5,0.5])\n",
    "clf.fit(X_tr,y_train)\n",
    "\n",
    "x0 = clf.feature_log_prob_[0]     #storing the indexes for the top 20 log probability scores for negative class label\n",
    "x1 = clf.feature_log_prob_[1]     #storing the indexes for the top 20 log probability scores for positive class label\n",
    "\n",
    "neg_idx = x0.argsort()[::-1][:20] #https://stackoverflow.com/questions/16486252/is-it-possible-to-use-argsort-in-descending-order\n",
    "pos_idx = x1.argsort()[::-1][:20] \n",
    "\n",
    "top_negative_features = []        #list for storing top 20 negative features\n",
    "top_positive_features = []        #list for storing top 20 negative features\n",
    "\n",
    "for i in neg_idx:                 #for each index append the feature name to the list\n",
    "    top_negative_features.append(features[i])\n",
    "\n",
    "print('Top 20 Features helpful in determining negative Class label :\\n')\n",
    "print(top_negative_features,'\\n')\n",
    "\n",
    "for j in pos_idx:                 #for each index append the feature name to the list\n",
    "    top_positive_features.append(features[j])\n",
    "\n",
    "print('Top 20 Features helpful in determining positive Class label :\\n')\n",
    "print(top_positive_features)\n"
   ]
  },
  {
   "cell_type": "markdown",
   "metadata": {
    "id": "lS9hIHdib3dp"
   },
   "source": [
    "<h1>3. Summary</h1>"
   ]
  },
  {
   "cell_type": "code",
   "execution_count": 270,
   "metadata": {},
   "outputs": [
    {
     "name": "stdout",
     "output_type": "stream",
     "text": [
      "+--------------+-------------+-------------------+----------+\n",
      "| Vectorizer   | Model       |   Hyper parameter |      AUC |\n",
      "|--------------+-------------+-------------------+----------|\n",
      "| BOW          | Naive Nayes |                 1 | 0.698641 |\n",
      "| TFIDF        | Naive Nayes |                 1 | 0.660593 |\n",
      "+--------------+-------------+-------------------+----------+\n"
     ]
    }
   ],
   "source": [
    "d = {'Vectorizer':['BOW','TFIDF'],'Model':['Naive Nayes','Naive Nayes'],'Hyper parameter':[best_alpha,best_alpha],'AUC':[auc(te_fpr,te_tpr),auc(te_fpr_s2,te_tpr_s2)]}\n",
    "summary = pd.DataFrame(data = d) #creating a dataframe and storing the required data\n",
    "\n",
    "#using tabulate for displaying the data in the desired format. source:stackoverflow.com\n",
    "from tabulate import tabulate  \n",
    "pdtabulate=lambda df:tabulate(summary,headers='keys',tablefmt='psql',showindex=False)\n",
    "\n",
    "print(pdtabulate(summary))"
   ]
  },
  {
   "cell_type": "markdown",
   "metadata": {},
   "source": [
    " "
   ]
  },
  {
   "cell_type": "markdown",
   "metadata": {},
   "source": [
    "Reference: www.appliedaicourse.com"
   ]
  }
 ],
 "metadata": {
  "colab": {
   "collapsed_sections": [],
   "name": "6_Assignment_NB_Instructions.ipynb",
   "provenance": []
  },
  "kernelspec": {
   "display_name": "Python 3",
   "language": "python",
   "name": "python3"
  },
  "language_info": {
   "codemirror_mode": {
    "name": "ipython",
    "version": 3
   },
   "file_extension": ".py",
   "mimetype": "text/x-python",
   "name": "python",
   "nbconvert_exporter": "python",
   "pygments_lexer": "ipython3",
   "version": "3.8.3"
  }
 },
 "nbformat": 4,
 "nbformat_minor": 1
}
